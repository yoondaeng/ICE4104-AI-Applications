{
  "nbformat": 4,
  "nbformat_minor": 0,
  "metadata": {
    "colab": {
      "provenance": [],
      "collapsed_sections": [
        "9uAhyj6iqoB5"
      ],
      "include_colab_link": true
    },
    "kernelspec": {
      "name": "python3",
      "display_name": "Python 3"
    }
  },
  "cells": [
    {
      "cell_type": "markdown",
      "metadata": {
        "id": "view-in-github",
        "colab_type": "text"
      },
      "source": [
        "<a href=\"https://colab.research.google.com/github/yoondaeng/ICE4104-AI-Applications/blob/Lab1/Lab1_Basic_Python.ipynb\" target=\"_parent\"><img src=\"https://colab.research.google.com/assets/colab-badge.svg\" alt=\"Open In Colab\"/></a>"
      ]
    },
    {
      "metadata": {
        "id": "MAqp7PDJRGO4"
      },
      "cell_type": "markdown",
      "source": [
        "## 1.데이터 분석용 파이썬 패키지\n",
        "\n",
        "여러 분야 사용할 수 있는 다양한 패키지를 가지고 있다는 점은 파이썬의 큰 장점이다.  \n",
        "\n",
        "\n",
        "```\n",
        "ㅇ NumPy\n",
        "    - 수치해석 라이브러리\n",
        "    - http://www.numpy.org/\n",
        "    - 2006, Travis Oliphant\n",
        "ㅇ SciPy\n",
        "    - 과학기술 함수 라이브러리\n",
        "    - http://www.scipy.org/\n",
        "    - 2001, Travis Oliphant, Pearu Peterson\n",
        "ㅇ SymPy\n",
        "    - 심볼릭 연산 라이브러리\n",
        "    - http://www.sympy.org/\n",
        "    - 2006, Ondřej Čertík\n",
        "ㅇ Matplotlib\n",
        "    - 시각화 라이브러리, matlab 플롯 기능 구현\n",
        "    - http://matplotlib.org/\n",
        "    - 2002, John D. Hunter\n",
        "ㅇ seaborn\n",
        "    - 시각화 라이브러리. 통계용 차트 및 컬러맵 추가\n",
        "    - https://stanford.edu/~mwaskom/software/seaborn/\n",
        "    - 2012, Michael Waskom\n",
        "ㅇ bokeh\n",
        "    - 시각화 라이브러리. 웹상에서 인터액티브 플롯 구현\n",
        "    - http://bokeh.pydata.org\n",
        "    - 2012, Peter Wang\n",
        "ㅇ pandas\n",
        "    - 데이터 분석 라이브러리. R의 data.frame 자료구조 구현\n",
        "    - http://pandas.pydata.org/\n",
        "    - 2008, Wes McKinney (AQR Capital Management)\n",
        "ㅇ statsmodels\n",
        "    - 다변량 회귀 분석 및 시계열 분석 라이브러리\n",
        "    - http://statsmodels.sourceforge.net/stable/\n",
        "    - 2009, Skipper Seabold\n",
        "ㅇ scikit-learn\n",
        "    - 머신러닝 라이브러리\n",
        "    - http://scikit-learn.org\n",
        "    - 2007, David Cournapeau\n",
        "ㅇ TensorFlow\n",
        "    - 딥러닝 라이브러리\n",
        "    - https://www.tensorflow.org/\n",
        "    - 2015, google\n",
        "ㅇ Keras\n",
        "    - 고수준 딥러닝 라이브러리\n",
        "    - https://keras.io/\n",
        "    - 2015, François Chollet\n",
        "```"
      ]
    },
    {
      "metadata": {
        "id": "9uAhyj6iqoB5"
      },
      "cell_type": "markdown",
      "source": [
        "# 2.파이썬 조건문\n",
        "## if ~ else 명령\n",
        "주의할 점 : 참 또는 거짓일 때 실행되는 명령들은 앞 빈칸을 4칸 (2칸 or Tab) 띄우고 써야 한다.\n"
      ]
    },
    {
      "metadata": {
        "id": "rKuSuA5Lqe9x",
        "outputId": "2003a3a2-447c-4e4d-9d17-a79104383696",
        "colab": {
          "base_uri": "https://localhost:8080/"
        }
      },
      "cell_type": "code",
      "source": [
        "a = 9 #@param {type:\"raw\"}\n",
        "\n",
        "if a % 2 == 0:\n",
        "    print(\"짝수\")\n",
        "else:\n",
        "    print(\"홀수\")"
      ],
      "execution_count": null,
      "outputs": [
        {
          "output_type": "stream",
          "name": "stdout",
          "text": [
            "홀수\n"
          ]
        }
      ]
    },
    {
      "metadata": {
        "id": "-zDmMXF4qu3O",
        "colab": {
          "base_uri": "https://localhost:8080/"
        },
        "outputId": "0b8d2668-65e3-4611-b002-0cd70589ba3e"
      },
      "cell_type": "code",
      "source": [
        "b = 55 #@param {type:\"raw\"}\n",
        "\n",
        "if (b >= 10) & (b < 100) & (b % 2 == 0):\n",
        "    print(\"2자리수의 짝수이다.\")\n",
        "else:\n",
        "    print(\"2자리수의 짝수가 아니다.\")"
      ],
      "execution_count": null,
      "outputs": [
        {
          "output_type": "stream",
          "name": "stdout",
          "text": [
            "2자리수의 짝수가 아니다.\n"
          ]
        }
      ]
    },
    {
      "metadata": {
        "id": "4r6hFWH2q1iS",
        "colab": {
          "base_uri": "https://localhost:8080/"
        },
        "outputId": "9e02b076-ef4f-400e-efec-055c286b7a96"
      },
      "cell_type": "code",
      "source": [
        "c = 6  #@param {type:\"raw\"}\n",
        "\n",
        "if c >= 8:\n",
        "    print(\"A\")\n",
        "elif c >= 5:\n",
        "    print(\"B\")\n",
        "else:\n",
        "    print(\"C\")"
      ],
      "execution_count": null,
      "outputs": [
        {
          "output_type": "stream",
          "name": "stdout",
          "text": [
            "B\n"
          ]
        }
      ]
    },
    {
      "metadata": {
        "id": "JzOgdfjAq4Fx",
        "colab": {
          "base_uri": "https://localhost:8080/"
        },
        "outputId": "819aa2cd-060e-46db-cb83-bbd5089e9cde"
      },
      "cell_type": "code",
      "source": [
        "sex_cd = 'M'  #@param {type:\"raw\"}\n",
        "pushup = 10  #@param {type:\"raw\"}\n",
        "\n",
        "if sex_cd == \"M\":\n",
        "    if pushup >= 10:\n",
        "      grade = \"Pass\"\n",
        "    else:\n",
        "      grade = \"Fail\"\n",
        "else:\n",
        "    if pushup >= 5:\n",
        "      grade = \"Pass\"\n",
        "    else:\n",
        "      grade = \"Fail\"\n",
        "\n",
        "print(grade)"
      ],
      "execution_count": null,
      "outputs": [
        {
          "output_type": "stream",
          "name": "stdout",
          "text": [
            "Pass\n"
          ]
        }
      ]
    },
    {
      "metadata": {
        "id": "2KUil-IWraRH"
      },
      "cell_type": "markdown",
      "source": [
        "# 3.파이썬 함수\n",
        "**함수(function)**는 입력(input)을 받으면 그 입력에 해당하는 출력(output)을 내놓은 기계와 같다."
      ]
    },
    {
      "metadata": {
        "id": "CZQhKRKKsMqM"
      },
      "cell_type": "markdown",
      "source": [
        "## 3.1. 함수 기본\n",
        "\n",
        "예를 들어 500원을 넣으면 생수가 나오고 1000원을 넣으면 콜라가 나오는 자판기는 다음과 같은 함수이다.\n",
        "```\n",
        "f(500) = \"생수\"\n",
        "f(1000) = \"콜라\"\n",
        "```\n",
        "파이썬에는 def 키워드를 사용하여 다음과 같이 함수를 만들 수 있다."
      ]
    },
    {
      "metadata": {
        "id": "5bz2p7-qq-Cf",
        "cellView": "both"
      },
      "cell_type": "code",
      "source": [
        "def twotimes(x):\n",
        "    y = 2 * x\n",
        "    return y"
      ],
      "execution_count": null,
      "outputs": []
    },
    {
      "metadata": {
        "id": "qB7ML2tNsBIH"
      },
      "cell_type": "markdown",
      "source": [
        "이렇게 만들어진 함수를 사용하려면 함수 이름과 그 뒤에 괄호로 싸인 입력값을 넣으면 된다."
      ]
    },
    {
      "metadata": {
        "id": "VjamQgrBsATo",
        "colab": {
          "base_uri": "https://localhost:8080/"
        },
        "outputId": "deb5c360-ce10-4477-ddba-e209f9f356f6"
      },
      "cell_type": "code",
      "source": [
        "twotimes(400)"
      ],
      "execution_count": null,
      "outputs": [
        {
          "output_type": "execute_result",
          "data": {
            "text/plain": [
              "800"
            ]
          },
          "metadata": {},
          "execution_count": 9
        }
      ]
    },
    {
      "metadata": {
        "id": "l7i5G-xgsFTG"
      },
      "cell_type": "markdown",
      "source": [
        "## 3.2. 다변수 함수"
      ]
    },
    {
      "metadata": {
        "id": "ZMWl8207sCuK",
        "colab": {
          "base_uri": "https://localhost:8080/"
        },
        "outputId": "de59e7b7-8168-4f13-8f18-af47c809676a"
      },
      "cell_type": "code",
      "source": [
        "def add(x, y):\n",
        "  return x + y\n",
        "\n",
        "add(1, 2)"
      ],
      "execution_count": null,
      "outputs": [
        {
          "output_type": "execute_result",
          "data": {
            "text/plain": [
              "3"
            ]
          },
          "metadata": {},
          "execution_count": 15
        }
      ]
    },
    {
      "metadata": {
        "id": "OZs3kHVssHef",
        "colab": {
          "base_uri": "https://localhost:8080/"
        },
        "outputId": "4565b3a4-728d-4395-aa46-cc12a6886433"
      },
      "cell_type": "code",
      "source": [
        "def sum(a, b, c):\n",
        "  s = a + b + c\n",
        "  return s\n",
        "\n",
        "sum(1, 2, 3)"
      ],
      "execution_count": null,
      "outputs": [
        {
          "output_type": "execute_result",
          "data": {
            "text/plain": [
              "6"
            ]
          },
          "metadata": {},
          "execution_count": 4
        }
      ]
    },
    {
      "metadata": {
        "id": "1NKK0J9WtN4M"
      },
      "cell_type": "markdown",
      "source": [
        "## 3.3. lambda 함수\n",
        "\n",
        "함수를 딱 한 줄만으로 만들게 해주는 lambda 라는 치트도 존재한다. 사용할 때는 아래와 같이 써준다.\n",
        "```\n",
        "lambda 매개변수 : 표현식\n",
        "```\n",
        "\n",
        "다음은 두 수를 더하는 함수이다."
      ]
    },
    {
      "cell_type": "code",
      "source": [
        "def add(x, y):\n",
        "  return x + y\n",
        "\n",
        "add(10, 20)"
      ],
      "metadata": {
        "colab": {
          "base_uri": "https://localhost:8080/"
        },
        "id": "tOOkvrXzmnhu",
        "outputId": "0fac2db5-cb7e-4c3f-e2ec-09ce950c097c"
      },
      "execution_count": null,
      "outputs": [
        {
          "output_type": "execute_result",
          "data": {
            "text/plain": [
              "30"
            ]
          },
          "metadata": {},
          "execution_count": 11
        }
      ]
    },
    {
      "cell_type": "markdown",
      "source": [
        "이것을 람다 형식으로는 다음과 같이 표현할 수 있다."
      ],
      "metadata": {
        "id": "HhR93NrUm4zr"
      }
    },
    {
      "cell_type": "code",
      "source": [
        "(lambda x,y: x + y)(10, 20)"
      ],
      "metadata": {
        "colab": {
          "base_uri": "https://localhost:8080/"
        },
        "id": "o3ro9M6fm_I4",
        "outputId": "ecedc211-8724-4a7f-f8ec-81c458b073d6"
      },
      "execution_count": null,
      "outputs": [
        {
          "output_type": "execute_result",
          "data": {
            "text/plain": [
              "30"
            ]
          },
          "metadata": {},
          "execution_count": 10
        }
      ]
    },
    {
      "cell_type": "markdown",
      "source": [
        "또 다른 예제는 다음과 같다."
      ],
      "metadata": {
        "id": "Z8tffBFVnCrV"
      }
    },
    {
      "metadata": {
        "id": "41G0cVIStFPJ",
        "colab": {
          "base_uri": "https://localhost:8080/"
        },
        "outputId": "40b95f1c-8bc4-418c-ac10-c3a7dd489307"
      },
      "cell_type": "code",
      "source": [
        "t = lambda x:x*2+1\n",
        "\n",
        "t(6)"
      ],
      "execution_count": null,
      "outputs": [
        {
          "output_type": "execute_result",
          "data": {
            "text/plain": [
              "13"
            ]
          },
          "metadata": {},
          "execution_count": 12
        }
      ]
    },
    {
      "metadata": {
        "id": "mE2AxnYGtSbY",
        "colab": {
          "base_uri": "https://localhost:8080/"
        },
        "outputId": "4939d8f8-29ad-4711-ad5b-4ed4d5d55867"
      },
      "cell_type": "code",
      "source": [
        "t = lambda x: print(\"test: {}\".format(x+3))\n",
        "\n",
        "t(2)"
      ],
      "execution_count": null,
      "outputs": [
        {
          "output_type": "stream",
          "name": "stdout",
          "text": [
            "test: 5\n"
          ]
        }
      ]
    },
    {
      "metadata": {
        "id": "H1IKxy2PvJSF"
      },
      "cell_type": "markdown",
      "source": [
        "# 4.파이썬 반복문"
      ]
    },
    {
      "metadata": {
        "id": "0zEbnL0suc-j"
      },
      "cell_type": "markdown",
      "source": [
        "## 4.1. for 반복문\n",
        "\n",
        "다음과 같은 문자를 반복적으로 출력해야한다고 가정하자.\n",
        "```\n",
        "=0=\n",
        "=1=\n",
        "=2=\n",
        "=3=\n",
        "=4=\n",
        "=5=\n",
        "=6=\n",
        "=7=\n",
        "=8=\n",
        "=9=\n",
        "```\n",
        "\n",
        "이를 위해서 다음과 같이 print 문을 반복적으로 사용할 수도 있을 것이다.\n",
        "\n",
        "```\n",
        "print(\"=1=\")  \n",
        "print(\"=2=\")  \n",
        "print(\"=3=\")  \n",
        "print(\"=4=\")  \n",
        "print(\"=5=\")  \n",
        "print(\"=6=\")  \n",
        "print(\"=7=\")  \n",
        "print(\"=8=\")  \n",
        "print(\"=9=\")\n",
        "```"
      ]
    },
    {
      "metadata": {
        "id": "dMIQo6FUuy19"
      },
      "cell_type": "markdown",
      "source": [
        "for 문을 이용하면 코드가 다음과 같이 가벼워진다.\n",
        "\n",
        "1부터 시작하고 2씩 증가하도록 간격 지정이 가능하다."
      ]
    },
    {
      "metadata": {
        "id": "XLAqC3ABu4N0",
        "colab": {
          "base_uri": "https://localhost:8080/"
        },
        "outputId": "75db0284-f97d-4dfe-a8d9-4df64fae6200"
      },
      "cell_type": "code",
      "source": [
        "for i in range(1, 10, 2):\n",
        "    print(\"=\" + str(i) + \"=\")"
      ],
      "execution_count": null,
      "outputs": [
        {
          "output_type": "stream",
          "name": "stdout",
          "text": [
            "=1=\n",
            "=3=\n",
            "=5=\n",
            "=7=\n",
            "=9=\n"
          ]
        }
      ]
    },
    {
      "metadata": {
        "id": "IgLTny_zu-fT"
      },
      "cell_type": "markdown",
      "source": [
        "뒤에 배우겠지만, for 문은 list 형 자료 작성 시에도 활용 가능하다."
      ]
    },
    {
      "metadata": {
        "id": "SazRe9Seu538",
        "colab": {
          "base_uri": "https://localhost:8080/"
        },
        "outputId": "f4d8a8de-5a7a-48b4-dd2e-e8ed32dd7289"
      },
      "cell_type": "code",
      "source": [
        "x = [i ** 2 for i in range(10)]\n",
        "\n",
        "x"
      ],
      "execution_count": null,
      "outputs": [
        {
          "output_type": "execute_result",
          "data": {
            "text/plain": [
              "[0, 1, 4, 9, 16, 25, 36, 49, 64, 81]"
            ]
          },
          "metadata": {},
          "execution_count": 31
        }
      ]
    },
    {
      "metadata": {
        "id": "IbfuAsM_vF7A"
      },
      "cell_type": "markdown",
      "source": [
        "for 반복문과 문자열 연산을 사용하여 다음과 같이 인쇄한다.\n",
        "\n",
        "\n",
        "```\n",
        " *\n",
        " **\n",
        " ***\n",
        " ****\n",
        " *****\n",
        " ******\n",
        " *******\n",
        " ********\n",
        " *********\n",
        " **********\n",
        "```"
      ]
    },
    {
      "metadata": {
        "id": "hwOuQC8iu8cE",
        "colab": {
          "base_uri": "https://localhost:8080/"
        },
        "outputId": "338def4e-26ba-4683-9554-80205c9120f0"
      },
      "cell_type": "code",
      "source": [
        "for i in range(1, 10):\n",
        "    print(\"*\" * i)"
      ],
      "execution_count": null,
      "outputs": [
        {
          "output_type": "stream",
          "name": "stdout",
          "text": [
            "*\n",
            "**\n",
            "***\n",
            "****\n",
            "*****\n",
            "******\n",
            "*******\n",
            "********\n",
            "*********\n"
          ]
        }
      ]
    },
    {
      "metadata": {
        "id": "voZ47Jj0vi_g"
      },
      "cell_type": "markdown",
      "source": [
        "for 반복문과 문자열 연산, if 조건문을 사용하여 다음과 같이 인쇄한다.\n",
        "```\n",
        "      *\n",
        "     ***\n",
        "    *****\n",
        "   *******\n",
        "  *********\n",
        " ***********\n",
        "  *********\n",
        "   *******\n",
        "    *****\n",
        "     ***\n",
        "      *\n",
        "```"
      ]
    },
    {
      "metadata": {
        "id": "cLKKyBU3vf46",
        "colab": {
          "base_uri": "https://localhost:8080/"
        },
        "outputId": "4d3b4e10-ff4c-400b-8464-336fb14691a2"
      },
      "cell_type": "code",
      "source": [
        "for i in range(11):\n",
        "    if i <= 5 :\n",
        "        print(\" \" * (5 - i) + \"*\" * (i * 2 + 1) )\n",
        "    else :\n",
        "        print(\" \" * (i - 5) + \"*\" * ((10 - i) * 2 + 1))"
      ],
      "execution_count": null,
      "outputs": [
        {
          "output_type": "stream",
          "name": "stdout",
          "text": [
            "     *\n",
            "    ***\n",
            "   *****\n",
            "  *******\n",
            " *********\n",
            "***********\n",
            " *********\n",
            "  *******\n",
            "   *****\n",
            "    ***\n",
            "     *\n"
          ]
        }
      ]
    },
    {
      "metadata": {
        "id": "8NkdoS2yvpdp"
      },
      "cell_type": "markdown",
      "source": [
        "## 4.2. 중첩 for 반복문\n",
        "\n",
        "```\n",
        " 0 1 2 3\n",
        " 1 2 3 4\n",
        " 2 3 4 5\n",
        " 3 4 5 6\n",
        "```"
      ]
    },
    {
      "metadata": {
        "id": "YyFQSmiSvnF7",
        "colab": {
          "base_uri": "https://localhost:8080/"
        },
        "outputId": "424f0dcf-3c4a-44b5-a243-1eae65285fe8"
      },
      "cell_type": "code",
      "source": [
        "for i in range(4):\n",
        "    for j in range(4):\n",
        "        print(i + j, end=\" \")"
      ],
      "execution_count": null,
      "outputs": [
        {
          "output_type": "stream",
          "name": "stdout",
          "text": [
            "0 1 2 3 1 2 3 4 2 3 4 5 3 4 5 6 "
          ]
        }
      ]
    },
    {
      "metadata": {
        "id": "8cv8qsiJvvr2",
        "colab": {
          "base_uri": "https://localhost:8080/"
        },
        "outputId": "d2af06bb-4da1-450c-b19b-8793d2ec8397"
      },
      "cell_type": "code",
      "source": [
        "for i in range(4):\n",
        "    for j in range(4):\n",
        "        print(i + j, end=\" \")\n",
        "    print()"
      ],
      "execution_count": null,
      "outputs": [
        {
          "output_type": "stream",
          "name": "stdout",
          "text": [
            "0 1 2 3 \n",
            "1 2 3 4 \n",
            "2 3 4 5 \n",
            "3 4 5 6 \n"
          ]
        }
      ]
    },
    {
      "metadata": {
        "id": "dFR1jvEExIol"
      },
      "cell_type": "markdown",
      "source": [
        "## 4.3. while 반복문\n",
        "\n",
        "반복해서 문장을 수행해야 할 경우 **while문**을 사용한다. 그래서 while문을 반복문이라고도 부른다.\n",
        "\n",
        "다음은 while문의 기본 구조이다.\n",
        "\n",
        "```\n",
        "while <조건문>:\n",
        "    <수행할 문장1>\n",
        "    <수행할 문장2>\n",
        "    <수행할 문장3>\n",
        "...\n",
        "```\n",
        "\n",
        "while문은 조건문이 참인 동안에 while문 아래에 속하는 문장들이 반복해서 수행된다."
      ]
    },
    {
      "metadata": {
        "id": "nfDjsn_qxRQu"
      },
      "cell_type": "markdown",
      "source": [
        "\"열 번 찍어 안 넘어 가는 나무 없다\" 라는 속담을 파이썬 프로그램으로 만든다면 다음과 같이 될 것이다."
      ]
    },
    {
      "metadata": {
        "id": "cq36BMsvwpzA",
        "colab": {
          "base_uri": "https://localhost:8080/"
        },
        "outputId": "29ba408c-2bde-49c7-f923-84b527762b9b"
      },
      "cell_type": "code",
      "source": [
        "treeHit = 0 #@param {type:\"raw\"}\n",
        "\n",
        "while treeHit < 10:\n",
        "    treeHit = treeHit +1\n",
        "    print(\"나무를 %d번 찍었습니다.\" % treeHit)\n",
        "    if treeHit == 10:\n",
        "        print(\"나무 넘어갑니다.\")"
      ],
      "execution_count": null,
      "outputs": [
        {
          "output_type": "stream",
          "name": "stdout",
          "text": [
            "나무를 1번 찍었습니다.\n",
            "나무를 2번 찍었습니다.\n",
            "나무를 3번 찍었습니다.\n",
            "나무를 4번 찍었습니다.\n",
            "나무를 5번 찍었습니다.\n",
            "나무를 6번 찍었습니다.\n",
            "나무를 7번 찍었습니다.\n",
            "나무를 8번 찍었습니다.\n",
            "나무를 9번 찍었습니다.\n",
            "나무를 10번 찍었습니다.\n",
            "나무 넘어갑니다.\n"
          ]
        }
      ]
    },
    {
      "metadata": {
        "id": "KG8T7BjYxafk"
      },
      "cell_type": "markdown",
      "source": [
        "위의 예에서 while문의 조건문은 treeHit < 10 이다.\n",
        "\n",
        "즉, treeHit가 10보다 작은 동안에 while문 안의 문장들을 계속 수행한다. whlie문 안의 문장을 보면 제일 먼저 treeHit = treeHit + 1로 treeHit 값이 계속 1씩 증가한다. 그리고 나무를 treeHit번만큼 찍었음을 알리는 문장을 출력하고 treeHit가 10이 되면 \"나무 넘어갑니다.\"라는 문장을 출력한다. 그러고 나면 treeHit < 10 이라는 조건문이 거짓이 되므로 while문을 빠져나가게 된다.\n",
        "\n",
        "(※ treeHit = treeHit + 1 은 프로그래밍을 할 때 매우 자주 사용하는 기법이다. treeHit의 값을 1만큼씩 증가시킬 목적으로 사용되며, treeHit +=1 처럼 사용되기도 한다.)\n",
        "\n",
        "다음을 직접 입력해 보자. 여러 가지 선택지 중 하나를 선택해서 입력받는 예제이다. 먼저 다음과 같이 여러 줄짜리 문자열을 만들어 보자.\n",
        "\n",
        "\"\"\" 따옴표 3개 줄바꿈 표시\n"
      ]
    },
    {
      "cell_type": "code",
      "source": [
        "x = '''hello\n",
        "hello'''\n",
        "print(x)\n",
        "\n",
        "print('==================')\n",
        "y = 'hello\\nhello'\n",
        "print(y)"
      ],
      "metadata": {
        "colab": {
          "base_uri": "https://localhost:8080/"
        },
        "id": "ac5XbTQ5nzeV",
        "outputId": "2c48c5b2-c8a5-474b-afe2-6ad627daa8f9"
      },
      "execution_count": null,
      "outputs": [
        {
          "output_type": "stream",
          "name": "stdout",
          "text": [
            "hello\n",
            "hello\n",
            "==================\n",
            "hello\n",
            "hello\n"
          ]
        }
      ]
    },
    {
      "metadata": {
        "id": "T0VoOjKKxWst"
      },
      "cell_type": "code",
      "source": [
        "prompt = \"\"\"\n",
        "1. Add\n",
        "2. Del\n",
        "3. List\n",
        "4. Quit\n",
        "Enter number:\n",
        "\"\"\""
      ],
      "execution_count": null,
      "outputs": []
    },
    {
      "metadata": {
        "id": "P71-q4Bkxcnd",
        "colab": {
          "base_uri": "https://localhost:8080/"
        },
        "outputId": "afbc3189-eba2-4c19-8799-ef2224573e04"
      },
      "cell_type": "code",
      "source": [
        "number = 0\n",
        "\n",
        "while number != 4:\n",
        "    print(prompt)\n",
        "    number = int(input())"
      ],
      "execution_count": null,
      "outputs": [
        {
          "name": "stdout",
          "output_type": "stream",
          "text": [
            "\n",
            "1. Add\n",
            "2. Del\n",
            "3. List\n",
            "4. Quit\n",
            "Enter number:\n",
            "\n",
            "1\n",
            "\n",
            "1. Add\n",
            "2. Del\n",
            "3. List\n",
            "4. Quit\n",
            "Enter number:\n",
            "\n",
            "2\n",
            "\n",
            "1. Add\n",
            "2. Del\n",
            "3. List\n",
            "4. Quit\n",
            "Enter number:\n",
            "\n",
            "3\n",
            "\n",
            "1. Add\n",
            "2. Del\n",
            "3. List\n",
            "4. Quit\n",
            "Enter number:\n",
            "\n",
            "4\n"
          ]
        }
      ]
    },
    {
      "metadata": {
        "id": "46jHgKjXxias"
      },
      "cell_type": "markdown",
      "source": [
        "### 4.3.1. while문 강제로 빠져나가기\n",
        "\n",
        "while문은 조건문이 참인 동안 계속해서 while문 안의 내용을 반복적으로 수행한다. 하지만 강제로 while문을 빠져나가고 싶을 때가 있다. 예를 들어 커피 자판기를 생각해 보자. 자판기 안에 커피가 충분히 있을 때에는 동전을 넣으면 커피가 나온다. 그런데 자판기가 제대로 작동하려면 커피가 얼마나 남았는지 항상 검사해야 한다. 만약 커피가 떨어졌다면 판매를 중단하고 \"판매 중지\"라는 문구를 사용자에게 보여주어야 한다.\n",
        "\n",
        "이렇게 판매를 강제로 멈추게 하는 것이 바로 **break문**이다.\n",
        "\n",
        "다음의 예는 커피 자판기 이야기를 파이썬 프로그램으로 표현해 본 것이다."
      ]
    },
    {
      "metadata": {
        "id": "SFxhyiMzxeey",
        "colab": {
          "base_uri": "https://localhost:8080/"
        },
        "outputId": "ca57a69b-915e-4f3b-eb52-1d08e0a9b9ee"
      },
      "cell_type": "code",
      "source": [
        "coffee = 5 #@param {type:\"raw\"}\n",
        "money = 300 #@param {type:\"raw\"}\n",
        "\n",
        "while money:\n",
        "    print(\"돈을 받았으니 커피를 줍니다.\")\n",
        "    coffee = coffee -1\n",
        "    print(\"남은 커피의 양은 %d개입니다.\" % coffee)\n",
        "    if not coffee:\n",
        "        print(\"커피가 다 떨어졌습니다. 판매를 중지합니다.\")\n",
        "        break"
      ],
      "execution_count": null,
      "outputs": [
        {
          "output_type": "stream",
          "name": "stdout",
          "text": [
            "돈을 받았으니 커피를 줍니다.\n",
            "남은 커피의 양은 4개입니다.\n",
            "돈을 받았으니 커피를 줍니다.\n",
            "남은 커피의 양은 3개입니다.\n",
            "돈을 받았으니 커피를 줍니다.\n",
            "남은 커피의 양은 2개입니다.\n",
            "돈을 받았으니 커피를 줍니다.\n",
            "남은 커피의 양은 1개입니다.\n",
            "돈을 받았으니 커피를 줍니다.\n",
            "남은 커피의 양은 0개입니다.\n",
            "커피가 다 떨어졌습니다. 판매를 중지합니다.\n"
          ]
        }
      ]
    },
    {
      "metadata": {
        "id": "1B3f3rUvxsnc",
        "colab": {
          "base_uri": "https://localhost:8080/"
        },
        "outputId": "a5a3d9a6-a425-4375-ae1f-50dd9660333e"
      },
      "cell_type": "code",
      "source": [
        "coffee = 5 #@param {type:\"raw\"}\n",
        "\n",
        "while True:\n",
        "    money = int(input(\"돈을 넣어 주세요: \"))\n",
        "    if money == 300:\n",
        "        print(\"커피를 줍니다.\")\n",
        "        coffee = coffee -1\n",
        "    elif money > 300:\n",
        "        print(\"거스름돈 %d를 주고 커피를 줍니다.\" % (money -300))\n",
        "        coffee = coffee -1\n",
        "    else:\n",
        "        print(\"돈을 다시 돌려주고 커피를 주지 않습니다.\")\n",
        "        print(\"남은 커피의 양은 %d개 입니다.\" % coffee)\n",
        "    if not coffee:\n",
        "        print(\"커피가 다 떨어졌습니다. 판매를 중지 합니다.\")\n",
        "        break"
      ],
      "execution_count": null,
      "outputs": [
        {
          "output_type": "stream",
          "name": "stdout",
          "text": [
            "돈을 넣어 주세요: 500\n",
            "거스름돈 200를 주고 커피를 줍니다.\n",
            "돈을 넣어 주세요: 100\n",
            "돈을 다시 돌려주고 커피를 주지 않습니다.\n",
            "남은 커피의 양은 4개 입니다.\n",
            "돈을 넣어 주세요: 300\n",
            "커피를 줍니다.\n",
            "돈을 넣어 주세요: 300\n",
            "커피를 줍니다.\n",
            "돈을 넣어 주세요: 300\n",
            "커피를 줍니다.\n",
            "돈을 넣어 주세요: 300\n",
            "커피를 줍니다.\n",
            "커피가 다 떨어졌습니다. 판매를 중지 합니다.\n"
          ]
        }
      ]
    },
    {
      "metadata": {
        "id": "kHwCLj2ix4Yn"
      },
      "cell_type": "markdown",
      "source": [
        "### 4.3.2. 조건에 맞지 않는 경우 맨 처음으로 돌아가기\n",
        "\n",
        "while문 안의 문장을 수행할 때 입력된 조건을 검사해서 조건에 맞지 않으면 while문을 빠져나간다. 그런데 프로그래밍을 하다 보면 while문을 빠져나가지 않고 while문의 맨 처음(조건문)으로 다시 돌아가게 만들고 싶은 경우가 생기게 된다. 이때 사용하는 것이 바로 continue문이다.\n",
        "\n",
        "만약 1부터 10까지의 숫자 중에서 홀수만 출력하는 것을 while문을 이용해서 작성한다고 생각해 보자."
      ]
    },
    {
      "metadata": {
        "id": "vBxV89TkxurU",
        "colab": {
          "base_uri": "https://localhost:8080/"
        },
        "outputId": "02862039-5f21-469e-c52f-32dbd6c61577"
      },
      "cell_type": "code",
      "source": [
        "a = 0\n",
        "\n",
        "while a < 10:\n",
        "    a = a + 1\n",
        "    if a % 2 == 0: continue\n",
        "    print(a)"
      ],
      "execution_count": null,
      "outputs": [
        {
          "output_type": "stream",
          "name": "stdout",
          "text": [
            "1\n",
            "3\n",
            "5\n",
            "7\n",
            "9\n"
          ]
        }
      ]
    },
    {
      "cell_type": "code",
      "source": [],
      "metadata": {
        "id": "DIiZ7RMVZ4CH"
      },
      "execution_count": null,
      "outputs": []
    }
  ]
}