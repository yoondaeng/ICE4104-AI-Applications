{
  "cells": [
    {
      "cell_type": "markdown",
      "metadata": {
        "id": "view-in-github",
        "colab_type": "text"
      },
      "source": [
        "<a href=\"https://colab.research.google.com/github/yoondaeng/ICE4104-AI-Applications/blob/main/%08gpt%EC%97%B0%EB%8F%99%2B%EB%8D%B0%EC%9D%B4%ED%84%B0%EC%B6%94%EC%B6%9C.ipynb\" target=\"_parent\"><img src=\"https://colab.research.google.com/assets/colab-badge.svg\" alt=\"Open In Colab\"/></a>"
      ]
    },
    {
      "cell_type": "code",
      "execution_count": null,
      "metadata": {
        "colab": {
          "base_uri": "https://localhost:8080/"
        },
        "id": "wvZR3YGvXrV7",
        "outputId": "7a721dde-e638-483c-e20e-b816dd1bd24f"
      },
      "outputs": [
        {
          "output_type": "stream",
          "name": "stdout",
          "text": [
            "Collecting openai\n",
            "  Downloading openai-1.30.3-py3-none-any.whl (320 kB)\n",
            "\u001b[?25l     \u001b[90m━━━━━━━━━━━━━━━━━━━━━━━━━━━━━━━━━━━━━━━━\u001b[0m \u001b[32m0.0/320.6 kB\u001b[0m \u001b[31m?\u001b[0m eta \u001b[36m-:--:--\u001b[0m\r\u001b[2K     \u001b[91m━━━━━━━━━━━━━━━━━━━━━━━━━\u001b[0m\u001b[91m╸\u001b[0m\u001b[90m━━━━━━━━━━━━━━\u001b[0m \u001b[32m204.8/320.6 kB\u001b[0m \u001b[31m5.9 MB/s\u001b[0m eta \u001b[36m0:00:01\u001b[0m\r\u001b[2K     \u001b[90m━━━━━━━━━━━━━━━━━━━━━━━━━━━━━━━━━━━━━━━━\u001b[0m \u001b[32m320.6/320.6 kB\u001b[0m \u001b[31m5.8 MB/s\u001b[0m eta \u001b[36m0:00:00\u001b[0m\n",
            "\u001b[?25hRequirement already satisfied: anyio<5,>=3.5.0 in /usr/local/lib/python3.10/dist-packages (from openai) (3.7.1)\n",
            "Requirement already satisfied: distro<2,>=1.7.0 in /usr/lib/python3/dist-packages (from openai) (1.7.0)\n",
            "Collecting httpx<1,>=0.23.0 (from openai)\n",
            "  Downloading httpx-0.27.0-py3-none-any.whl (75 kB)\n",
            "\u001b[2K     \u001b[90m━━━━━━━━━━━━━━━━━━━━━━━━━━━━━━━━━━━━━━━━\u001b[0m \u001b[32m75.6/75.6 kB\u001b[0m \u001b[31m7.5 MB/s\u001b[0m eta \u001b[36m0:00:00\u001b[0m\n",
            "\u001b[?25hRequirement already satisfied: pydantic<3,>=1.9.0 in /usr/local/lib/python3.10/dist-packages (from openai) (2.7.1)\n",
            "Requirement already satisfied: sniffio in /usr/local/lib/python3.10/dist-packages (from openai) (1.3.1)\n",
            "Requirement already satisfied: tqdm>4 in /usr/local/lib/python3.10/dist-packages (from openai) (4.66.4)\n",
            "Requirement already satisfied: typing-extensions<5,>=4.7 in /usr/local/lib/python3.10/dist-packages (from openai) (4.11.0)\n",
            "Requirement already satisfied: idna>=2.8 in /usr/local/lib/python3.10/dist-packages (from anyio<5,>=3.5.0->openai) (3.7)\n",
            "Requirement already satisfied: exceptiongroup in /usr/local/lib/python3.10/dist-packages (from anyio<5,>=3.5.0->openai) (1.2.1)\n",
            "Requirement already satisfied: certifi in /usr/local/lib/python3.10/dist-packages (from httpx<1,>=0.23.0->openai) (2024.2.2)\n",
            "Collecting httpcore==1.* (from httpx<1,>=0.23.0->openai)\n",
            "  Downloading httpcore-1.0.5-py3-none-any.whl (77 kB)\n",
            "\u001b[2K     \u001b[90m━━━━━━━━━━━━━━━━━━━━━━━━━━━━━━━━━━━━━━━━\u001b[0m \u001b[32m77.9/77.9 kB\u001b[0m \u001b[31m5.0 MB/s\u001b[0m eta \u001b[36m0:00:00\u001b[0m\n",
            "\u001b[?25hCollecting h11<0.15,>=0.13 (from httpcore==1.*->httpx<1,>=0.23.0->openai)\n",
            "  Downloading h11-0.14.0-py3-none-any.whl (58 kB)\n",
            "\u001b[2K     \u001b[90m━━━━━━━━━━━━━━━━━━━━━━━━━━━━━━━━━━━━━━━━\u001b[0m \u001b[32m58.3/58.3 kB\u001b[0m \u001b[31m3.9 MB/s\u001b[0m eta \u001b[36m0:00:00\u001b[0m\n",
            "\u001b[?25hRequirement already satisfied: annotated-types>=0.4.0 in /usr/local/lib/python3.10/dist-packages (from pydantic<3,>=1.9.0->openai) (0.7.0)\n",
            "Requirement already satisfied: pydantic-core==2.18.2 in /usr/local/lib/python3.10/dist-packages (from pydantic<3,>=1.9.0->openai) (2.18.2)\n",
            "Installing collected packages: h11, httpcore, httpx, openai\n",
            "Successfully installed h11-0.14.0 httpcore-1.0.5 httpx-0.27.0 openai-1.30.3\n"
          ]
        }
      ],
      "source": [
        "!pip install openai"
      ]
    },
    {
      "cell_type": "code",
      "execution_count": null,
      "metadata": {
        "id": "xuDXEVAV-1ro"
      },
      "outputs": [],
      "source": [
        "import os\n",
        "from openai import OpenAI"
      ]
    },
    {
      "cell_type": "code",
      "execution_count": null,
      "metadata": {
        "id": "Xk4acC8U-ks0"
      },
      "outputs": [],
      "source": [
        "client = OpenAI(\n",
        "    # This is the default and can be omitted\n",
        "    api_key= 'api_key'\n",
        ")"
      ]
    },
    {
      "cell_type": "code",
      "execution_count": null,
      "metadata": {
        "id": "bDVUiOpeA0s1"
      },
      "outputs": [],
      "source": [
        "def summarize_conversation(conversation):\n",
        "    prompt = (\n",
        "        \"지금부터 너는 카카오톡같은 메신저의 대화 내용을 요약하는 AI야. \"\n",
        "        \"사용자의 대화 내용을 입력으로 받으면, 대화 내용을 파악하여 요약해서 설명해줄 수 있어.\\n\\n\"\n",
        "        \"다음은 카카오톡 대화 내용입니다. 대화 흐름을 파악하며 전체 대화 내용을 요약해주세요. \"\n",
        "        \"너는 2~3줄 문장으로 파악한 대화 내용을 요약해서 알려주면 돼. 대답은 한국어로 해줘야해.\\n\\n\"\n",
        "        f\"{conversation}\\n\\n\"\n",
        "        \"요약:\"\n",
        "    )\n",
        "\n",
        "    chat_completion = client.chat.completions.create(\n",
        "        messages=[\n",
        "            {\n",
        "                \"role\": \"system\",\n",
        "                \"content\": \"You are an AI specialized in summarizing chat conversations.\"\n",
        "            },\n",
        "            {\n",
        "                \"role\": \"user\",\n",
        "                \"content\": prompt,\n",
        "            }\n",
        "        ],\n",
        "        model=\"gpt-3.5-turbo\",\n",
        "        max_tokens=500,  # 원하는 토큰 수 설정\n",
        "        temperature=0.5  # 생성 텍스트의 다양성 조절\n",
        "    )\n",
        "\n",
        "    summary = chat_completion.choices[0].message.content\n",
        "\n",
        "    return summary"
      ]
    },
    {
      "cell_type": "code",
      "execution_count": null,
      "metadata": {
        "colab": {
          "base_uri": "https://localhost:8080/"
        },
        "id": "yGMgiDs_URQf",
        "outputId": "934be9b7-7c59-431e-f750-0dc2ef622c9b"
      },
      "outputs": [
        {
          "output_type": "stream",
          "name": "stdout",
          "text": [
            "요약: 대화 내용은 선배가 모바일 게임에 현질을 하고 있어서 초대를 받았지만 거부했으나 결국 현질을 하게 되어 놀리는 이야기부터 시작하여 게임에 중독된 친구들의 이야기로 이어졌습니다. 게임에 대한 열정과 승부욕을 나누는 대화가 주를 이루었습니다.\n",
            "요약이 summary.txt 파일로 저장되었습니다.\n"
          ]
        }
      ],
      "source": [
        "conversation = \"\"\"\n",
        "나 오랜만에ㅔ토핑파파 조졌당\n",
        "#@시스템#사진#\n",
        "미쳨ㅅ다 대박ㅜㅜㅜ\n",
        "개부럽다.....\n",
        "나도 토핑파파파파파ㅏㅠㅠㅠㅠ\n",
        "아 배불러서 토할거가타,,\n",
        "ㅋㅋㅋㅋㅋㅋㅋㅋㅋㅋㅋㅋㅋㅋㅋㅋㅋㅋㅋㅋㅋ\n",
        "몇저각 드셧어\n",
        "토하문 안됔ㅋㅋㅋㅋㅋㅋㅋㅋㅋㅋㅋㅋㅋ\n",
        "\"\"\"\n",
        "\n",
        "# 대화 내용을 요약\n",
        "summary = summarize_conversation(conversation)\n",
        "print(\"요약:\", summary)\n",
        "\n",
        "# 문장마다 줄바꿈하여 파일로 저장\n",
        "summary_lines = summary.split('. ')\n",
        "formatted_summary = \".\\n\".join(summary_lines)\n",
        "\n",
        "with open('summary.txt', 'w', encoding='utf-8') as file:\n",
        "    file.write(formatted_summary)\n",
        "\n",
        "print(\"요약이 summary.txt 파일로 저장되었습니다.\")"
      ]
    },
    {
      "cell_type": "markdown",
      "source": [],
      "metadata": {
        "id": "O_frE81Vq9-n"
      }
    },
    {
      "cell_type": "markdown",
      "source": [
        "# json 파일에서 대화만 추출"
      ],
      "metadata": {
        "id": "KB84ytiFov4W"
      }
    },
    {
      "cell_type": "code",
      "execution_count": null,
      "metadata": {
        "colab": {
          "base_uri": "https://localhost:8080/"
        },
        "id": "znS6wnsaSuU2",
        "outputId": "90d54b24-ee67-421f-c8a7-e29fe325014c"
      },
      "outputs": [
        {
          "name": "stdout",
          "output_type": "stream",
          "text": [
            "Mounted at /content/drive\n"
          ]
        }
      ],
      "source": [
        "# Google 드라이브 마운트\n",
        "from google.colab import drive\n",
        "drive.mount('/content/drive')"
      ]
    },
    {
      "cell_type": "code",
      "execution_count": null,
      "metadata": {
        "colab": {
          "base_uri": "https://localhost:8080/"
        },
        "id": "Z7LIFTCqSjwy",
        "outputId": "01d628e2-a0ca-4b6f-ad02-e6aaf6b9d076"
      },
      "outputs": [
        {
          "output_type": "stream",
          "name": "stdout",
          "text": [
            "{'header': {'dialogueInfo': {'dialogueID': '5f0dbadf-9f7b-54c5-8169-c5495367c04d', 'numberOfParticipants': 2, 'numberOfUtterances': 11, 'numberOfTurns': 5, 'type': '일상 대화', 'topic': '행사'}, 'participantsInfo': [{'participantID': 'P01', 'gender': '여성', 'age': '40대', 'residentialProvince': '경기도'}, {'participantID': 'P02', 'gender': '여성', 'age': '40대', 'residentialProvince': '서울특별시'}]}, 'body': {'dialogue': [{'utteranceID': 'U1', 'turnID': 'T1', 'participantID': 'P01', 'date': '2018-10-02', 'time': '09:27:00', 'utterance': '언니랑 #@이름#언니 갈거야 말거야'}, {'utteranceID': 'U2', 'turnID': 'T1', 'participantID': 'P01', 'date': '2018-10-02', 'time': '09:28:00', 'utterance': '언니네 집에가게되면 가기 싫어질것 같아서 씻고나오게 ㅎㅎㅎ'}, {'utteranceID': 'U3', 'turnID': 'T2', 'participantID': 'P02', 'date': '2018-10-02', 'time': '09:29:00', 'utterance': 'ㅋㅋ씻고울집으로와'}, {'utteranceID': 'U4', 'turnID': 'T2', 'participantID': 'P02', 'date': '2018-10-02', 'time': '09:29:00', 'utterance': '#@이름#이 있어서'}, {'utteranceID': 'U5', 'turnID': 'T2', 'participantID': 'P02', 'date': '2018-10-02', 'time': '09:32:00', 'utterance': '#@이름#한테못물어봄'}, {'utteranceID': 'U6', 'turnID': 'T3', 'participantID': 'P01', 'date': '2018-10-02', 'time': '09:32:00', 'utterance': 'ㅎㅎㅎ 막 그런건 아닌데 내맘이 예전처럼은 안되는건 사실'}, {'utteranceID': 'U7', 'turnID': 'T3', 'participantID': 'P01', 'date': '2018-10-02', 'time': '09:32:00', 'utterance': '겉도는 수준 그래도 씻고 준비하고 언니네갈께'}, {'utteranceID': 'U8', 'turnID': 'T3', 'participantID': 'P01', 'date': '2018-10-02', 'time': '09:32:00', 'utterance': '옷찾을것도 있고해서'}, {'utteranceID': 'U9', 'turnID': 'T3', 'participantID': 'P01', 'date': '2018-10-02', 'time': '09:32:00', 'utterance': '아까 물어보더만 밖에서'}, {'utteranceID': 'U10', 'turnID': 'T4', 'participantID': 'P02', 'date': '2018-10-02', 'time': '09:33:00', 'utterance': '대답을안해서 또물어보기가'}, {'utteranceID': 'U11', 'turnID': 'T5', 'participantID': 'P01', 'date': '2018-10-02', 'time': '09:33:00', 'utterance': '내가할께'}], 'summary': '언니가 언니네 있는 다른 사람에게 물어보지는 못했지만 동생이 찾을 옷도 있어 씻고 준비해서 언니네로 가기로 한다.'}}\n",
            "random_utterances.txt 파일에 저장되었습니다.\n"
          ]
        }
      ],
      "source": [
        "import json\n",
        "import random\n",
        "\n",
        "# JSON 파일 열기\n",
        "with open('/content/drive/MyDrive/Colab Notebooks/행사.json', 'r', encoding='UTF8') as f:\n",
        "    json_data = json.load(f)\n",
        "\n",
        "# 'data' 키의 값 (리스트) 추출\n",
        "datas = json_data['data']\n",
        "\n",
        "# 리스트에서 무작위로 하나의 요소 선택\n",
        "random_data = random.choice(datas)\n",
        "\n",
        "# 선택한 데이터 출력\n",
        "print(random_data)\n",
        "\n",
        "# 'utterance' 값만 추출\n",
        "utterances = [utterance['utterance'] for utterance in random_data['body']['dialogue']]\n",
        "\n",
        "# 'utterance' 값을 텍스트 파일로 저장\n",
        "with open('/content/drive/MyDrive/Colab Notebooks/행사_대화원본.txt', 'w', encoding='utf-8') as file:\n",
        "    for utterance in utterances:\n",
        "        file.write(utterance + '\\n')\n",
        "\n",
        "print(\"random_utterances.txt 파일에 저장되었습니다.\")"
      ]
    },
    {
      "cell_type": "code",
      "execution_count": null,
      "metadata": {
        "colab": {
          "base_uri": "https://localhost:8080/"
        },
        "id": "WtU_VdD2Snla",
        "outputId": "60a83bfc-bf4e-41b6-ad05-86866d554a77"
      },
      "outputs": [
        {
          "name": "stdout",
          "output_type": "stream",
          "text": [
            "귀여운 중국인을 카톡 프로필 사진으로 설정하고 자신의 유사 손주라고 이야기한다.\n"
          ]
        }
      ],
      "source": [
        "print(datas[4]['body']['summary'])"
      ]
    }
  ],
  "metadata": {
    "accelerator": "GPU",
    "colab": {
      "gpuType": "T4",
      "provenance": [],
      "toc_visible": true,
      "include_colab_link": true
    },
    "kernelspec": {
      "display_name": "Python 3",
      "name": "python3"
    },
    "language_info": {
      "name": "python"
    }
  },
  "nbformat": 4,
  "nbformat_minor": 0
}